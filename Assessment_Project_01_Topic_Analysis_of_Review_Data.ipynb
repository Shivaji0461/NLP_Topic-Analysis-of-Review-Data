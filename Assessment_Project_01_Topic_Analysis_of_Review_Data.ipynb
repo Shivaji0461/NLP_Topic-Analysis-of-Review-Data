{
 "cells": [
  {
   "cell_type": "markdown",
   "id": "30c684b2",
   "metadata": {
    "id": "30c684b2"
   },
   "source": [
    "# Assessment Project-01:- Topic Analysis of Review Data"
   ]
  },
  {
   "cell_type": "code",
   "execution_count": 1,
   "id": "21f5aaf8",
   "metadata": {
    "id": "21f5aaf8"
   },
   "outputs": [],
   "source": [
    "import warnings\n",
    "warnings.filterwarnings('ignore')"
   ]
  },
  {
   "cell_type": "code",
   "execution_count": 3,
   "id": "17da3f40",
   "metadata": {
    "id": "17da3f40"
   },
   "outputs": [],
   "source": [
    "# Import require library\n",
    "\n",
    "import pandas as pd\n",
    "from nltk.tokenize import word_tokenize\n",
    "import matplotlib.pyplot as plt\n",
    "import seaborn as sns\n",
    "import nltk\n",
    "import re\n",
    "from nltk.stem import WordNetLemmatizer\n",
    "from nltk.corpus import stopwords\n",
    "from string import punctuation\n",
    "from sklearn.feature_extraction.text import CountVectorizer\n",
    "from sklearn.decomposition import LatentDirichletAllocation\n",
    "from tmtoolkit.topicmod.evaluate import metric_coherence_gensim\n",
    "import numpy as np\n",
    "import gensim\n",
    "from gensim import corpora\n",
    "from gensim.models.coherencemodel import CoherenceModel\n",
    "from gensim.corpora import Dictionary"
   ]
  },
  {
   "cell_type": "code",
   "execution_count": 4,
   "id": "a039731c",
   "metadata": {
    "id": "a039731c"
   },
   "outputs": [],
   "source": [
    "pd.set_option('display.max_colwidth',150)"
   ]
  },
  {
   "cell_type": "markdown",
   "id": "a67c4c38",
   "metadata": {
    "id": "a67c4c38"
   },
   "source": [
    "# 1. Read the .csv file using Pandas. Take a look at the top few records."
   ]
  },
  {
   "cell_type": "code",
   "execution_count": 5,
   "id": "7e8a94c7",
   "metadata": {
    "colab": {
     "base_uri": "https://localhost:8080/",
     "height": 285
    },
    "id": "7e8a94c7",
    "outputId": "22d507e5-f2fb-4754-f540-f6b0cf333ab8"
   },
   "outputs": [
    {
     "data": {
      "text/html": [
       "\n",
       "  <div id=\"df-e10cc1a8-95b1-4296-925a-215ee68f9271\">\n",
       "    <div class=\"colab-df-container\">\n",
       "      <div>\n",
       "<style scoped>\n",
       "    .dataframe tbody tr th:only-of-type {\n",
       "        vertical-align: middle;\n",
       "    }\n",
       "\n",
       "    .dataframe tbody tr th {\n",
       "        vertical-align: top;\n",
       "    }\n",
       "\n",
       "    .dataframe thead th {\n",
       "        text-align: right;\n",
       "    }\n",
       "</style>\n",
       "<table border=\"1\" class=\"dataframe\">\n",
       "  <thead>\n",
       "    <tr style=\"text-align: right;\">\n",
       "      <th></th>\n",
       "      <th>sentiment</th>\n",
       "      <th>review</th>\n",
       "    </tr>\n",
       "  </thead>\n",
       "  <tbody>\n",
       "    <tr>\n",
       "      <th>0</th>\n",
       "      <td>1</td>\n",
       "      <td>Good but need updates and improvements</td>\n",
       "    </tr>\n",
       "    <tr>\n",
       "      <th>1</th>\n",
       "      <td>0</td>\n",
       "      <td>Worst mobile i have bought ever, Battery is draining like hell, backup is only 6 to 7 hours with internet uses, even if I put mobile idle its gett...</td>\n",
       "    </tr>\n",
       "    <tr>\n",
       "      <th>2</th>\n",
       "      <td>1</td>\n",
       "      <td>when I will get my 10% cash back.... its already 15 January..</td>\n",
       "    </tr>\n",
       "    <tr>\n",
       "      <th>3</th>\n",
       "      <td>1</td>\n",
       "      <td>Good</td>\n",
       "    </tr>\n",
       "    <tr>\n",
       "      <th>4</th>\n",
       "      <td>0</td>\n",
       "      <td>The worst phone everThey have changed the last phone but the problem is still same and the amazon is not returning the phone .Highly disappointing...</td>\n",
       "    </tr>\n",
       "  </tbody>\n",
       "</table>\n",
       "</div>\n",
       "      <button class=\"colab-df-convert\" onclick=\"convertToInteractive('df-e10cc1a8-95b1-4296-925a-215ee68f9271')\"\n",
       "              title=\"Convert this dataframe to an interactive table.\"\n",
       "              style=\"display:none;\">\n",
       "        \n",
       "  <svg xmlns=\"http://www.w3.org/2000/svg\" height=\"24px\"viewBox=\"0 0 24 24\"\n",
       "       width=\"24px\">\n",
       "    <path d=\"M0 0h24v24H0V0z\" fill=\"none\"/>\n",
       "    <path d=\"M18.56 5.44l.94 2.06.94-2.06 2.06-.94-2.06-.94-.94-2.06-.94 2.06-2.06.94zm-11 1L8.5 8.5l.94-2.06 2.06-.94-2.06-.94L8.5 2.5l-.94 2.06-2.06.94zm10 10l.94 2.06.94-2.06 2.06-.94-2.06-.94-.94-2.06-.94 2.06-2.06.94z\"/><path d=\"M17.41 7.96l-1.37-1.37c-.4-.4-.92-.59-1.43-.59-.52 0-1.04.2-1.43.59L10.3 9.45l-7.72 7.72c-.78.78-.78 2.05 0 2.83L4 21.41c.39.39.9.59 1.41.59.51 0 1.02-.2 1.41-.59l7.78-7.78 2.81-2.81c.8-.78.8-2.07 0-2.86zM5.41 20L4 18.59l7.72-7.72 1.47 1.35L5.41 20z\"/>\n",
       "  </svg>\n",
       "      </button>\n",
       "      \n",
       "  <style>\n",
       "    .colab-df-container {\n",
       "      display:flex;\n",
       "      flex-wrap:wrap;\n",
       "      gap: 12px;\n",
       "    }\n",
       "\n",
       "    .colab-df-convert {\n",
       "      background-color: #E8F0FE;\n",
       "      border: none;\n",
       "      border-radius: 50%;\n",
       "      cursor: pointer;\n",
       "      display: none;\n",
       "      fill: #1967D2;\n",
       "      height: 32px;\n",
       "      padding: 0 0 0 0;\n",
       "      width: 32px;\n",
       "    }\n",
       "\n",
       "    .colab-df-convert:hover {\n",
       "      background-color: #E2EBFA;\n",
       "      box-shadow: 0px 1px 2px rgba(60, 64, 67, 0.3), 0px 1px 3px 1px rgba(60, 64, 67, 0.15);\n",
       "      fill: #174EA6;\n",
       "    }\n",
       "\n",
       "    [theme=dark] .colab-df-convert {\n",
       "      background-color: #3B4455;\n",
       "      fill: #D2E3FC;\n",
       "    }\n",
       "\n",
       "    [theme=dark] .colab-df-convert:hover {\n",
       "      background-color: #434B5C;\n",
       "      box-shadow: 0px 1px 3px 1px rgba(0, 0, 0, 0.15);\n",
       "      filter: drop-shadow(0px 1px 2px rgba(0, 0, 0, 0.3));\n",
       "      fill: #FFFFFF;\n",
       "    }\n",
       "  </style>\n",
       "\n",
       "      <script>\n",
       "        const buttonEl =\n",
       "          document.querySelector('#df-e10cc1a8-95b1-4296-925a-215ee68f9271 button.colab-df-convert');\n",
       "        buttonEl.style.display =\n",
       "          google.colab.kernel.accessAllowed ? 'block' : 'none';\n",
       "\n",
       "        async function convertToInteractive(key) {\n",
       "          const element = document.querySelector('#df-e10cc1a8-95b1-4296-925a-215ee68f9271');\n",
       "          const dataTable =\n",
       "            await google.colab.kernel.invokeFunction('convertToInteractive',\n",
       "                                                     [key], {});\n",
       "          if (!dataTable) return;\n",
       "\n",
       "          const docLinkHtml = 'Like what you see? Visit the ' +\n",
       "            '<a target=\"_blank\" href=https://colab.research.google.com/notebooks/data_table.ipynb>data table notebook</a>'\n",
       "            + ' to learn more about interactive tables.';\n",
       "          element.innerHTML = '';\n",
       "          dataTable['output_type'] = 'display_data';\n",
       "          await google.colab.output.renderOutput(dataTable, element);\n",
       "          const docLink = document.createElement('div');\n",
       "          docLink.innerHTML = docLinkHtml;\n",
       "          element.appendChild(docLink);\n",
       "        }\n",
       "      </script>\n",
       "    </div>\n",
       "  </div>\n",
       "  "
      ],
      "text/plain": [
       "   sentiment  \\\n",
       "0          1   \n",
       "1          0   \n",
       "2          1   \n",
       "3          1   \n",
       "4          0   \n",
       "\n",
       "                                                                                                                                                  review  \n",
       "0                                                                                                                 Good but need updates and improvements  \n",
       "1  Worst mobile i have bought ever, Battery is draining like hell, backup is only 6 to 7 hours with internet uses, even if I put mobile idle its gett...  \n",
       "2                                                                                          when I will get my 10% cash back.... its already 15 January..  \n",
       "3                                                                                                                                                   Good  \n",
       "4  The worst phone everThey have changed the last phone but the problem is still same and the amazon is not returning the phone .Highly disappointing...  "
      ]
     },
     "execution_count": 5,
     "metadata": {},
     "output_type": "execute_result"
    }
   ],
   "source": [
    "data = pd.read_csv(\"K8 Reviews v0.2.csv\")\n",
    "data.head()"
   ]
  },
  {
   "cell_type": "code",
   "execution_count": 6,
   "id": "e2058544",
   "metadata": {
    "colab": {
     "base_uri": "https://localhost:8080/"
    },
    "id": "e2058544",
    "outputId": "150e544e-259a-441c-e6ca-11b676baac28"
   },
   "outputs": [
    {
     "data": {
      "text/plain": [
       "(14675, 2)"
      ]
     },
     "execution_count": 6,
     "metadata": {},
     "output_type": "execute_result"
    }
   ],
   "source": [
    "data.shape"
   ]
  },
  {
   "cell_type": "code",
   "execution_count": 7,
   "id": "5f63d83e",
   "metadata": {
    "colab": {
     "base_uri": "https://localhost:8080/"
    },
    "id": "5f63d83e",
    "outputId": "82f1c0b0-87d6-43da-9a67-465dceecc135"
   },
   "outputs": [
    {
     "name": "stdout",
     "output_type": "stream",
     "text": [
      "<class 'pandas.core.frame.DataFrame'>\n",
      "RangeIndex: 14675 entries, 0 to 14674\n",
      "Data columns (total 2 columns):\n",
      " #   Column     Non-Null Count  Dtype \n",
      "---  ------     --------------  ----- \n",
      " 0   sentiment  14675 non-null  int64 \n",
      " 1   review     14675 non-null  object\n",
      "dtypes: int64(1), object(1)\n",
      "memory usage: 229.4+ KB\n"
     ]
    }
   ],
   "source": [
    "data.info()"
   ]
  },
  {
   "cell_type": "code",
   "execution_count": 8,
   "id": "304ad3e0",
   "metadata": {
    "colab": {
     "base_uri": "https://localhost:8080/"
    },
    "id": "304ad3e0",
    "outputId": "6f3b6641-f05e-4c7d-d79c-f5516d65ce55"
   },
   "outputs": [
    {
     "data": {
      "text/plain": [
       "False"
      ]
     },
     "execution_count": 8,
     "metadata": {},
     "output_type": "execute_result"
    }
   ],
   "source": [
    "data.isna().sum().any()"
   ]
  },
  {
   "cell_type": "code",
   "execution_count": 9,
   "id": "7c5d40ed",
   "metadata": {
    "colab": {
     "base_uri": "https://localhost:8080/"
    },
    "id": "7c5d40ed",
    "outputId": "e371cf9d-a8d5-4322-c31a-b2e4003796e9"
   },
   "outputs": [
    {
     "data": {
      "text/plain": [
       "0    7712\n",
       "1    6963\n",
       "Name: sentiment, dtype: int64"
      ]
     },
     "execution_count": 9,
     "metadata": {},
     "output_type": "execute_result"
    }
   ],
   "source": [
    "data['sentiment'].value_counts()"
   ]
  },
  {
   "cell_type": "code",
   "execution_count": 11,
   "id": "7920ccb3",
   "metadata": {
    "colab": {
     "base_uri": "https://localhost:8080/",
     "height": 298
    },
    "id": "7920ccb3",
    "outputId": "8b9224c3-3e9a-4f8b-8207-3b56064c7278"
   },
   "outputs": [
    {
     "data": {
      "text/plain": [
       "<matplotlib.axes._subplots.AxesSubplot at 0x7eff4078b390>"
      ]
     },
     "execution_count": 11,
     "metadata": {},
     "output_type": "execute_result"
    },
    {
     "data": {
      "image/png": "[encoded data removed]",
      "text/plain": [
       "<Figure size 432x288 with 1 Axes>"
      ]
     },
     "metadata": {
      "needs_background": "light"
     },
     "output_type": "display_data"
    }
   ],
   "source": [
    "sns.countplot(data['sentiment'])"
   ]
  },
  {
   "cell_type": "markdown",
   "id": "8e0e5fbd",
   "metadata": {
    "id": "8e0e5fbd"
   },
   "source": [
    "# 2. Normalize casings for the review text and extract the text into a list for easier manipulation."
   ]
  },
  {
   "cell_type": "code",
   "execution_count": 12,
   "id": "3c54aaf6",
   "metadata": {
    "id": "3c54aaf6"
   },
   "outputs": [],
   "source": [
    "reviews = data['review'].values"
   ]
  },
  {
   "cell_type": "code",
   "execution_count": 13,
   "id": "2c7da7fc",
   "metadata": {
    "colab": {
     "base_uri": "https://localhost:8080/"
    },
    "id": "2c7da7fc",
    "outputId": "fc5aa5ce-78ff-42a4-e20d-d636d111e0fe"
   },
   "outputs": [
    {
     "data": {
      "text/plain": [
       "array(['Good but need updates and improvements',\n",
       "       \"Worst mobile i have bought ever, Battery is draining like hell, backup is only 6 to 7 hours with internet uses, even if I put mobile idle its getting discharged.This is biggest lie from Amazon & Lenove which is not at all expected, they are making full by saying that battery is 4000MAH & booster charger is fake, it takes at least 4 to 5 hours to be fully charged.Don't know how Lenovo will survive by making full of us.Please don;t go for this else you will regret like me.\",\n",
       "       'when I will get my 10% cash back.... its already 15 January..',\n",
       "       'Good',\n",
       "       'The worst phone everThey have changed the last phone but the problem is still same and the amazon is not returning the phone .Highly disappointing of amazon'],\n",
       "      dtype=object)"
      ]
     },
     "execution_count": 13,
     "metadata": {},
     "output_type": "execute_result"
    }
   ],
   "source": [
    "reviews[:5]"
   ]
  },
  {
   "cell_type": "code",
   "execution_count": 14,
   "id": "5ee5c9b6",
   "metadata": {
    "id": "5ee5c9b6"
   },
   "outputs": [],
   "source": [
    "review_lower = [term.lower() for term in reviews]"
   ]
  },
  {
   "cell_type": "code",
   "execution_count": 15,
   "id": "22ddb48d",
   "metadata": {
    "colab": {
     "base_uri": "https://localhost:8080/"
    },
    "id": "22ddb48d",
    "outputId": "92ccdad4-c30b-406f-c8e9-560d36fbdaed"
   },
   "outputs": [
    {
     "data": {
      "text/plain": [
       "['good but need updates and improvements',\n",
       " \"worst mobile i have bought ever, battery is draining like hell, backup is only 6 to 7 hours with internet uses, even if i put mobile idle its getting discharged.this is biggest lie from amazon & lenove which is not at all expected, they are making full by saying that battery is 4000mah & booster charger is fake, it takes at least 4 to 5 hours to be fully charged.don't know how lenovo will survive by making full of us.please don;t go for this else you will regret like me.\",\n",
       " 'when i will get my 10% cash back.... its already 15 january..',\n",
       " 'good',\n",
       " 'the worst phone everthey have changed the last phone but the problem is still same and the amazon is not returning the phone .highly disappointing of amazon']"
      ]
     },
     "execution_count": 15,
     "metadata": {},
     "output_type": "execute_result"
    }
   ],
   "source": [
    "review_lower[:5]"
   ]
  },
  {
   "cell_type": "markdown",
   "id": "35539174",
   "metadata": {
    "id": "35539174"
   },
   "source": [
    "# 3. Tokenize the reviews using NLTKs word_tokenize function."
   ]
  },
  {
   "cell_type": "code",
   "execution_count": 17,
   "id": "5d10f50b",
   "metadata": {
    "id": "5d10f50b"
   },
   "outputs": [],
   "source": [
    "review_token = [word_tokenize(token) for token in review_lower]"
   ]
  },
  {
   "cell_type": "code",
   "execution_count": 18,
   "id": "9ae06c14",
   "metadata": {
    "colab": {
     "base_uri": "https://localhost:8080/"
    },
    "id": "9ae06c14",
    "outputId": "b6308796-f12f-46a9-ebdc-fa7e3cba4f09"
   },
   "outputs": [
    {
     "name": "stdout",
     "output_type": "stream",
     "text": [
      "[['good', 'but', 'need', 'updates', 'and', 'improvements'], ['worst', 'mobile', 'i', 'have', 'bought', 'ever', ',', 'battery', 'is', 'draining', 'like', 'hell', ',', 'backup', 'is', 'only', '6', 'to', '7', 'hours', 'with', 'internet', 'uses', ',', 'even', 'if', 'i', 'put', 'mobile', 'idle', 'its', 'getting', 'discharged.this', 'is', 'biggest', 'lie', 'from', 'amazon', '&', 'lenove', 'which', 'is', 'not', 'at', 'all', 'expected', ',', 'they', 'are', 'making', 'full', 'by', 'saying', 'that', 'battery', 'is', '4000mah', '&', 'booster', 'charger', 'is', 'fake', ',', 'it', 'takes', 'at', 'least', '4', 'to', '5', 'hours', 'to', 'be', 'fully', 'charged.do', \"n't\", 'know', 'how', 'lenovo', 'will', 'survive', 'by', 'making', 'full', 'of', 'us.please', 'don', ';', 't', 'go', 'for', 'this', 'else', 'you', 'will', 'regret', 'like', 'me', '.'], ['when', 'i', 'will', 'get', 'my', '10', '%', 'cash', 'back', '....', 'its', 'already', '15', 'january', '..'], ['good'], ['the', 'worst', 'phone', 'everthey', 'have', 'changed', 'the', 'last', 'phone', 'but', 'the', 'problem', 'is', 'still', 'same', 'and', 'the', 'amazon', 'is', 'not', 'returning', 'the', 'phone', '.highly', 'disappointing', 'of', 'amazon']]\n"
     ]
    }
   ],
   "source": [
    "print(review_token[:5])"
   ]
  },
  {
   "cell_type": "markdown",
   "id": "28935dc9",
   "metadata": {
    "id": "28935dc9"
   },
   "source": [
    "# 4. Perform parts-of-speech tagging on each sentence using the NLTK POS tagger."
   ]
  },
  {
   "cell_type": "code",
   "execution_count": 20,
   "id": "d16004fa",
   "metadata": {
    "id": "d16004fa"
   },
   "outputs": [],
   "source": [
    "review_pos = [nltk.pos_tag(sent) for sent in review_token]"
   ]
  },
  {
   "cell_type": "code",
   "execution_count": 21,
   "id": "09fad795",
   "metadata": {
    "colab": {
     "base_uri": "https://localhost:8080/"
    },
    "id": "09fad795",
    "outputId": "b4a6b653-b68c-4d0c-866d-64978f76d76c"
   },
   "outputs": [
    {
     "name": "stdout",
     "output_type": "stream",
     "text": [
      "[[('good', 'JJ'), ('but', 'CC'), ('need', 'VBP'), ('updates', 'NNS'), ('and', 'CC'), ('improvements', 'NNS')], [('worst', 'JJS'), ('mobile', 'NN'), ('i', 'NN'), ('have', 'VBP'), ('bought', 'VBN'), ('ever', 'RB'), (',', ','), ('battery', 'NN'), ('is', 'VBZ'), ('draining', 'VBG'), ('like', 'IN'), ('hell', 'NN'), (',', ','), ('backup', 'NN'), ('is', 'VBZ'), ('only', 'RB'), ('6', 'CD'), ('to', 'TO'), ('7', 'CD'), ('hours', 'NNS'), ('with', 'IN'), ('internet', 'JJ'), ('uses', 'NNS'), (',', ','), ('even', 'RB'), ('if', 'IN'), ('i', 'JJ'), ('put', 'VBP'), ('mobile', 'JJ'), ('idle', 'NN'), ('its', 'PRP$'), ('getting', 'VBG'), ('discharged.this', 'NN'), ('is', 'VBZ'), ('biggest', 'JJS'), ('lie', 'NN'), ('from', 'IN'), ('amazon', 'NN'), ('&', 'CC'), ('lenove', 'NN'), ('which', 'WDT'), ('is', 'VBZ'), ('not', 'RB'), ('at', 'IN'), ('all', 'DT'), ('expected', 'VBN'), (',', ','), ('they', 'PRP'), ('are', 'VBP'), ('making', 'VBG'), ('full', 'JJ'), ('by', 'IN'), ('saying', 'VBG'), ('that', 'DT'), ('battery', 'NN'), ('is', 'VBZ'), ('4000mah', 'CD'), ('&', 'CC'), ('booster', 'JJR'), ('charger', 'NN'), ('is', 'VBZ'), ('fake', 'JJ'), (',', ','), ('it', 'PRP'), ('takes', 'VBZ'), ('at', 'IN'), ('least', 'JJS'), ('4', 'CD'), ('to', 'TO'), ('5', 'CD'), ('hours', 'NNS'), ('to', 'TO'), ('be', 'VB'), ('fully', 'RB'), ('charged.do', 'VBP'), (\"n't\", 'RB'), ('know', 'VB'), ('how', 'WRB'), ('lenovo', 'JJ'), ('will', 'MD'), ('survive', 'VB'), ('by', 'IN'), ('making', 'VBG'), ('full', 'JJ'), ('of', 'IN'), ('us.please', 'JJ'), ('don', 'NN'), (';', ':'), ('t', 'CC'), ('go', 'VB'), ('for', 'IN'), ('this', 'DT'), ('else', 'JJ'), ('you', 'PRP'), ('will', 'MD'), ('regret', 'VB'), ('like', 'IN'), ('me', 'PRP'), ('.', '.')], [('when', 'WRB'), ('i', 'NN'), ('will', 'MD'), ('get', 'VB'), ('my', 'PRP$'), ('10', 'CD'), ('%', 'NN'), ('cash', 'NN'), ('back', 'RB'), ('....', 'VBZ'), ('its', 'PRP$'), ('already', 'RB'), ('15', 'CD'), ('january', 'JJ'), ('..', 'NN')], [('good', 'JJ')], [('the', 'DT'), ('worst', 'JJS'), ('phone', 'NN'), ('everthey', 'NN'), ('have', 'VBP'), ('changed', 'VBN'), ('the', 'DT'), ('last', 'JJ'), ('phone', 'NN'), ('but', 'CC'), ('the', 'DT'), ('problem', 'NN'), ('is', 'VBZ'), ('still', 'RB'), ('same', 'JJ'), ('and', 'CC'), ('the', 'DT'), ('amazon', 'NN'), ('is', 'VBZ'), ('not', 'RB'), ('returning', 'VBG'), ('the', 'DT'), ('phone', 'NN'), ('.highly', 'RB'), ('disappointing', 'JJ'), ('of', 'IN'), ('amazon', 'NN')]]\n"
     ]
    }
   ],
   "source": [
    "print(review_pos[:5])"
   ]
  },
  {
   "cell_type": "markdown",
   "id": "90005d01",
   "metadata": {
    "id": "90005d01"
   },
   "source": [
    "# 5. For the topic model, we should  want to include only nouns."
   ]
  },
  {
   "cell_type": "markdown",
   "id": "f12092fc",
   "metadata": {
    "id": "f12092fc"
   },
   "source": [
    "## i. Find out all the POS tags that correspond to nouns.\n",
    "## ii. Limit the data to only terms with these tags."
   ]
  },
  {
   "cell_type": "code",
   "execution_count": 22,
   "id": "6ebde29d",
   "metadata": {
    "colab": {
     "base_uri": "https://localhost:8080/"
    },
    "id": "6ebde29d",
    "outputId": "e174c9d7-0095-47de-fe16-d5c8d0dff0b6"
   },
   "outputs": [
    {
     "name": "stderr",
     "output_type": "stream",
     "text": [
      "[nltk_data] Downloading package tagsets to /root/nltk_data...\n",
      "[nltk_data]   Package tagsets is already up-to-date!\n"
     ]
    },
    {
     "data": {
      "text/plain": [
       "True"
      ]
     },
     "execution_count": 22,
     "metadata": {},
     "output_type": "execute_result"
    }
   ],
   "source": [
    "nltk.download('tagsets')"
   ]
  },
  {
   "cell_type": "code",
   "execution_count": 23,
   "id": "042bd8e4",
   "metadata": {
    "colab": {
     "base_uri": "https://localhost:8080/"
    },
    "id": "042bd8e4",
    "outputId": "01d019a6-459b-4783-9a47-a3f935946a7f"
   },
   "outputs": [
    {
     "name": "stdout",
     "output_type": "stream",
     "text": [
      "$: dollar\n",
      "    $ -$ --$ A$ C$ HK$ M$ NZ$ S$ U.S.$ US$\n",
      "'': closing quotation mark\n",
      "    ' ''\n",
      "(: opening parenthesis\n",
      "    ( [ {\n",
      "): closing parenthesis\n",
      "    ) ] }\n",
      ",: comma\n",
      "    ,\n",
      "--: dash\n",
      "    --\n",
      ".: sentence terminator\n",
      "    . ! ?\n",
      ":: colon or ellipsis\n",
      "    : ; ...\n",
      "CC: conjunction, coordinating\n",
      "    & 'n and both but either et for less minus neither nor or plus so\n",
      "    therefore times v. versus vs. whether yet\n",
      "CD: numeral, cardinal\n",
      "    mid-1890 nine-thirty forty-two one-tenth ten million 0.5 one forty-\n",
      "    seven 1987 twenty '79 zero two 78-degrees eighty-four IX '60s .025\n",
      "    fifteen 271,124 dozen quintillion DM2,000 ...\n",
      "DT: determiner\n",
      "    all an another any both del each either every half la many much nary\n",
      "    neither no some such that the them these this those\n",
      "EX: existential there\n",
      "    there\n",
      "FW: foreign word\n",
      "    gemeinschaft hund ich jeux habeas Haementeria Herr K'ang-si vous\n",
      "    lutihaw alai je jour objets salutaris fille quibusdam pas trop Monte\n",
      "    terram fiche oui corporis ...\n",
      "IN: preposition or conjunction, subordinating\n",
      "    astride among uppon whether out inside pro despite on by throughout\n",
      "    below within for towards near behind atop around if like until below\n",
      "    next into if beside ...\n",
      "JJ: adjective or numeral, ordinal\n",
      "    third ill-mannered pre-war regrettable oiled calamitous first separable\n",
      "    ectoplasmic battery-powered participatory fourth still-to-be-named\n",
      "    multilingual multi-disciplinary ...\n",
      "JJR: adjective, comparative\n",
      "    bleaker braver breezier briefer brighter brisker broader bumper busier\n",
      "    calmer cheaper choosier cleaner clearer closer colder commoner costlier\n",
      "    cozier creamier crunchier cuter ...\n",
      "JJS: adjective, superlative\n",
      "    calmest cheapest choicest classiest cleanest clearest closest commonest\n",
      "    corniest costliest crassest creepiest crudest cutest darkest deadliest\n",
      "    dearest deepest densest dinkiest ...\n",
      "LS: list item marker\n",
      "    A A. B B. C C. D E F First G H I J K One SP-44001 SP-44002 SP-44005\n",
      "    SP-44007 Second Third Three Two * a b c d first five four one six three\n",
      "    two\n",
      "MD: modal auxiliary\n",
      "    can cannot could couldn't dare may might must need ought shall should\n",
      "    shouldn't will would\n",
      "NN: noun, common, singular or mass\n",
      "    common-carrier cabbage knuckle-duster Casino afghan shed thermostat\n",
      "    investment slide humour falloff slick wind hyena override subhumanity\n",
      "    machinist ...\n",
      "NNP: noun, proper, singular\n",
      "    Motown Venneboerger Czestochwa Ranzer Conchita Trumplane Christos\n",
      "    Oceanside Escobar Kreisler Sawyer Cougar Yvette Ervin ODI Darryl CTCA\n",
      "    Shannon A.K.C. Meltex Liverpool ...\n",
      "NNPS: noun, proper, plural\n",
      "    Americans Americas Amharas Amityvilles Amusements Anarcho-Syndicalists\n",
      "    Andalusians Andes Andruses Angels Animals Anthony Antilles Antiques\n",
      "    Apache Apaches Apocrypha ...\n",
      "NNS: noun, common, plural\n",
      "    undergraduates scotches bric-a-brac products bodyguards facets coasts\n",
      "    divestitures storehouses designs clubs fragrances averages\n",
      "    subjectivists apprehensions muses factory-jobs ...\n",
      "PDT: pre-determiner\n",
      "    all both half many quite such sure this\n",
      "POS: genitive marker\n",
      "    ' 's\n",
      "PRP: pronoun, personal\n",
      "    hers herself him himself hisself it itself me myself one oneself ours\n",
      "    ourselves ownself self she thee theirs them themselves they thou thy us\n",
      "PRP$: pronoun, possessive\n",
      "    her his mine my our ours their thy your\n",
      "RB: adverb\n",
      "    occasionally unabatingly maddeningly adventurously professedly\n",
      "    stirringly prominently technologically magisterially predominately\n",
      "    swiftly fiscally pitilessly ...\n",
      "RBR: adverb, comparative\n",
      "    further gloomier grander graver greater grimmer harder harsher\n",
      "    healthier heavier higher however larger later leaner lengthier less-\n",
      "    perfectly lesser lonelier longer louder lower more ...\n",
      "RBS: adverb, superlative\n",
      "    best biggest bluntest earliest farthest first furthest hardest\n",
      "    heartiest highest largest least less most nearest second tightest worst\n",
      "RP: particle\n",
      "    aboard about across along apart around aside at away back before behind\n",
      "    by crop down ever fast for forth from go high i.e. in into just later\n",
      "    low more off on open out over per pie raising start teeth that through\n",
      "    under unto up up-pp upon whole with you\n",
      "SYM: symbol\n",
      "    % & ' '' ''. ) ). * + ,. < = > @ A[fj] U.S U.S.S.R * ** ***\n",
      "TO: \"to\" as preposition or infinitive marker\n",
      "    to\n",
      "UH: interjection\n",
      "    Goodbye Goody Gosh Wow Jeepers Jee-sus Hubba Hey Kee-reist Oops amen\n",
      "    huh howdy uh dammit whammo shucks heck anyways whodunnit honey golly\n",
      "    man baby diddle hush sonuvabitch ...\n",
      "VB: verb, base form\n",
      "    ask assemble assess assign assume atone attention avoid bake balkanize\n",
      "    bank begin behold believe bend benefit bevel beware bless boil bomb\n",
      "    boost brace break bring broil brush build ...\n",
      "VBD: verb, past tense\n",
      "    dipped pleaded swiped regummed soaked tidied convened halted registered\n",
      "    cushioned exacted snubbed strode aimed adopted belied figgered\n",
      "    speculated wore appreciated contemplated ...\n",
      "VBG: verb, present participle or gerund\n",
      "    telegraphing stirring focusing angering judging stalling lactating\n",
      "    hankerin' alleging veering capping approaching traveling besieging\n",
      "    encrypting interrupting erasing wincing ...\n",
      "VBN: verb, past participle\n",
      "    multihulled dilapidated aerosolized chaired languished panelized used\n",
      "    experimented flourished imitated reunifed factored condensed sheared\n",
      "    unsettled primed dubbed desired ...\n",
      "VBP: verb, present tense, not 3rd person singular\n",
      "    predominate wrap resort sue twist spill cure lengthen brush terminate\n",
      "    appear tend stray glisten obtain comprise detest tease attract\n",
      "    emphasize mold postpone sever return wag ...\n",
      "VBZ: verb, present tense, 3rd person singular\n",
      "    bases reconstructs marks mixes displeases seals carps weaves snatches\n",
      "    slumps stretches authorizes smolders pictures emerges stockpiles\n",
      "    seduces fizzes uses bolsters slaps speaks pleads ...\n",
      "WDT: WH-determiner\n",
      "    that what whatever which whichever\n",
      "WP: WH-pronoun\n",
      "    that what whatever whatsoever which who whom whosoever\n",
      "WP$: WH-pronoun, possessive\n",
      "    whose\n",
      "WRB: Wh-adverb\n",
      "    how however whence whenever where whereby whereever wherein whereof why\n",
      "``: opening quotation mark\n",
      "    ` ``\n"
     ]
    }
   ],
   "source": [
    "nltk.help.upenn_tagset()"
   ]
  },
  {
   "cell_type": "code",
   "execution_count": 24,
   "id": "8ca30d3b",
   "metadata": {
    "id": "8ca30d3b"
   },
   "outputs": [],
   "source": [
    "review_nouns = []\n",
    "for term in review_pos:\n",
    "    review_nouns.append([token for token in term if re.search('NN.*',token[1])])"
   ]
  },
  {
   "cell_type": "code",
   "execution_count": 25,
   "id": "af4238cd",
   "metadata": {
    "colab": {
     "base_uri": "https://localhost:8080/"
    },
    "id": "af4238cd",
    "outputId": "70ea7872-92f5-43e1-e31c-33addacf195f"
   },
   "outputs": [
    {
     "name": "stdout",
     "output_type": "stream",
     "text": [
      "[[('updates', 'NNS'), ('improvements', 'NNS')], [('mobile', 'NN'), ('i', 'NN'), ('battery', 'NN'), ('hell', 'NN'), ('backup', 'NN'), ('hours', 'NNS'), ('uses', 'NNS'), ('idle', 'NN'), ('discharged.this', 'NN'), ('lie', 'NN'), ('amazon', 'NN'), ('lenove', 'NN'), ('battery', 'NN'), ('charger', 'NN'), ('hours', 'NNS'), ('don', 'NN')], [('i', 'NN'), ('%', 'NN'), ('cash', 'NN'), ('..', 'NN')], [], [('phone', 'NN'), ('everthey', 'NN'), ('phone', 'NN'), ('problem', 'NN'), ('amazon', 'NN'), ('phone', 'NN'), ('amazon', 'NN')]]\n"
     ]
    }
   ],
   "source": [
    "print(review_nouns[:5])"
   ]
  },
  {
   "cell_type": "markdown",
   "id": "4274ff33",
   "metadata": {
    "id": "4274ff33"
   },
   "source": [
    "# 6. Lemmatize. \n",
    "\n",
    "## i. Different forms of the terms need to be treated as one.\n",
    "## ii. No need to provide POS tag to lemmatizer for now."
   ]
  },
  {
   "cell_type": "code",
   "execution_count": 28,
   "id": "4ce0115a",
   "metadata": {
    "id": "4ce0115a"
   },
   "outputs": [],
   "source": [
    "lemmatizer = WordNetLemmatizer()\n",
    "review_lemma = []\n",
    "for term in review_nouns:\n",
    "    review_lemma.append([lemmatizer.lemmatize(sent[0]) for sent in term])"
   ]
  },
  {
   "cell_type": "code",
   "execution_count": 29,
   "id": "7f19eb49",
   "metadata": {
    "colab": {
     "base_uri": "https://localhost:8080/"
    },
    "id": "7f19eb49",
    "outputId": "2c22a6cd-7008-43e4-a7d3-16dbe6c9b4ab"
   },
   "outputs": [
    {
     "name": "stdout",
     "output_type": "stream",
     "text": [
      "[['update', 'improvement'], ['mobile', 'i', 'battery', 'hell', 'backup', 'hour', 'us', 'idle', 'discharged.this', 'lie', 'amazon', 'lenove', 'battery', 'charger', 'hour', 'don'], ['i', '%', 'cash', '..'], [], ['phone', 'everthey', 'phone', 'problem', 'amazon', 'phone', 'amazon']]\n"
     ]
    }
   ],
   "source": [
    "print(review_lemma[:5])"
   ]
  },
  {
   "cell_type": "markdown",
   "id": "631e94d0",
   "metadata": {
    "id": "631e94d0"
   },
   "source": [
    "# 7. Remove stopwords and punctuation (if there are any). "
   ]
  },
  {
   "cell_type": "code",
   "execution_count": 31,
   "id": "15dda1a6",
   "metadata": {
    "id": "15dda1a6"
   },
   "outputs": [],
   "source": [
    "stop_words = stopwords.words('english')"
   ]
  },
  {
   "cell_type": "code",
   "execution_count": 32,
   "id": "e524d7d9",
   "metadata": {
    "id": "e524d7d9"
   },
   "outputs": [],
   "source": [
    "review_nonstopwords = []\n",
    "for term in review_lemma:\n",
    "    review_nonstopwords.append([word for word in term if word not in stop_words])"
   ]
  },
  {
   "cell_type": "code",
   "execution_count": 33,
   "id": "dcc55d2a",
   "metadata": {
    "colab": {
     "base_uri": "https://localhost:8080/"
    },
    "id": "dcc55d2a",
    "outputId": "58c43ba3-50e5-456d-8b6d-cf0b61dd9c29"
   },
   "outputs": [
    {
     "name": "stdout",
     "output_type": "stream",
     "text": [
      "[['update', 'improvement'], ['mobile', 'battery', 'hell', 'backup', 'hour', 'us', 'idle', 'discharged.this', 'lie', 'amazon', 'lenove', 'battery', 'charger', 'hour'], ['%', 'cash', '..'], [], ['phone', 'everthey', 'phone', 'problem', 'amazon', 'phone', 'amazon']]\n"
     ]
    }
   ],
   "source": [
    "print(review_nonstopwords[:5])"
   ]
  },
  {
   "cell_type": "code",
   "execution_count": 34,
   "id": "15fb6486",
   "metadata": {
    "id": "15fb6486"
   },
   "outputs": [],
   "source": [
    "punct = list(punctuation)"
   ]
  },
  {
   "cell_type": "code",
   "execution_count": 35,
   "id": "14b110d7",
   "metadata": {
    "id": "14b110d7"
   },
   "outputs": [],
   "source": [
    "nonpunctuation = []\n",
    "re_puct = re.compile('[%s]' % re.escape(punctuation))\n",
    "for sent in review_nonstopwords:\n",
    "    nonpunctuation.append([re_puct.sub('',word) for word in sent])"
   ]
  },
  {
   "cell_type": "code",
   "execution_count": 36,
   "id": "4fe25da8",
   "metadata": {
    "colab": {
     "base_uri": "https://localhost:8080/"
    },
    "id": "4fe25da8",
    "outputId": "21f024f2-6a66-42dc-88cb-79bf7bd65252"
   },
   "outputs": [
    {
     "data": {
      "text/plain": [
       "[['update', 'improvement'],\n",
       " ['mobile',\n",
       "  'battery',\n",
       "  'hell',\n",
       "  'backup',\n",
       "  'hour',\n",
       "  'us',\n",
       "  'idle',\n",
       "  'dischargedthis',\n",
       "  'lie',\n",
       "  'amazon',\n",
       "  'lenove',\n",
       "  'battery',\n",
       "  'charger',\n",
       "  'hour'],\n",
       " ['', 'cash', ''],\n",
       " [],\n",
       " ['phone', 'everthey', 'phone', 'problem', 'amazon', 'phone', 'amazon']]"
      ]
     },
     "execution_count": 36,
     "metadata": {},
     "output_type": "execute_result"
    }
   ],
   "source": [
    "nonpunctuation[:5]"
   ]
  },
  {
   "cell_type": "code",
   "execution_count": 37,
   "id": "041d72d5",
   "metadata": {
    "id": "041d72d5"
   },
   "outputs": [],
   "source": [
    "remove = []\n",
    "re_br = re.compile('(br)$')\n",
    "for term in nonpunctuation:\n",
    "    remove.append([re_br.sub('',word) for word in term])\n",
    "    \n",
    "review_clean = []\n",
    "for sent in remove:\n",
    "    review_clean.append([word for word in sent if word.isalpha()])"
   ]
  },
  {
   "cell_type": "code",
   "execution_count": 38,
   "id": "9f1653a1",
   "metadata": {
    "colab": {
     "base_uri": "https://localhost:8080/"
    },
    "id": "9f1653a1",
    "outputId": "8afc0821-f7f3-40fa-b56d-944cfb699727"
   },
   "outputs": [
    {
     "data": {
      "text/plain": [
       "[['update', 'improvement'],\n",
       " ['mobile',\n",
       "  'battery',\n",
       "  'hell',\n",
       "  'backup',\n",
       "  'hour',\n",
       "  'us',\n",
       "  'idle',\n",
       "  'dischargedthis',\n",
       "  'lie',\n",
       "  'amazon',\n",
       "  'lenove',\n",
       "  'battery',\n",
       "  'charger',\n",
       "  'hour'],\n",
       " ['cash'],\n",
       " [],\n",
       " ['phone', 'everthey', 'phone', 'problem', 'amazon', 'phone', 'amazon']]"
      ]
     },
     "execution_count": 38,
     "metadata": {},
     "output_type": "execute_result"
    }
   ],
   "source": [
    "review_clean[:5]"
   ]
  },
  {
   "cell_type": "markdown",
   "id": "81762049",
   "metadata": {
    "id": "81762049"
   },
   "source": [
    "# 8. Create a topic model using LDA on the cleaned-up data with 12 topics."
   ]
  },
  {
   "cell_type": "markdown",
   "id": "c031f20a",
   "metadata": {
    "id": "c031f20a"
   },
   "source": [
    "## i. Print out the top terms for each topic."
   ]
  },
  {
   "cell_type": "code",
   "execution_count": 39,
   "id": "d0a98039",
   "metadata": {
    "id": "d0a98039"
   },
   "outputs": [],
   "source": [
    "# Define topics\n",
    "n_topics = 12"
   ]
  },
  {
   "cell_type": "code",
   "execution_count": 40,
   "id": "23a5b297",
   "metadata": {
    "id": "23a5b297"
   },
   "outputs": [],
   "source": [
    "# Create Dictionary\n",
    "id2word = corpora.Dictionary(review_clean)\n",
    "\n",
    "#Create corpus\n",
    "texts = review_clean"
   ]
  },
  {
   "cell_type": "code",
   "execution_count": 41,
   "id": "7e17b652",
   "metadata": {
    "colab": {
     "base_uri": "https://localhost:8080/"
    },
    "id": "7e17b652",
    "outputId": "d5b3984c-ce70-4095-92c1-2020883d61a4"
   },
   "outputs": [
    {
     "name": "stdout",
     "output_type": "stream",
     "text": [
      "[(79, 1), (104, 1), (105, 1)]\n",
      "update\n",
      "[[('improvement', 1), ('update', 1)], [('amazon', 1), ('backup', 1), ('battery', 2), ('charger', 1), ('dischargedthis', 1), ('hell', 1), ('hour', 2), ('idle', 1), ('lenove', 1), ('lie', 1), ('mobile', 1), ('us', 1)]]\n"
     ]
    }
   ],
   "source": [
    "# Term Document Frequency\n",
    "corpus = [id2word.doc2bow(text) for text in texts]\n",
    "\n",
    "print(corpus[50])\n",
    "print(id2word[1])\n",
    "print([[(id2word[i],freq) for i, freq in corp] for corp in corpus[:2]])"
   ]
  },
  {
   "cell_type": "code",
   "execution_count": 42,
   "id": "df06d67b",
   "metadata": {
    "id": "df06d67b"
   },
   "outputs": [],
   "source": [
    "# Build LDA model\n",
    "lda_model_gensim = gensim.models.ldamodel.LdaModel(corpus=corpus,id2word=id2word,num_topics=12,random_state=42,\n",
    "                                                  passes=10,per_word_topics=True)"
   ]
  },
  {
   "cell_type": "code",
   "execution_count": 43,
   "id": "fca42100",
   "metadata": {
    "colab": {
     "base_uri": "https://localhost:8080/"
    },
    "id": "fca42100",
    "outputId": "6afeeedc-1b80-49bb-ed5d-000b7ba5a476"
   },
   "outputs": [
    {
     "data": {
      "text/plain": [
       "[(0,\n",
       "  '0.077*\"feature\" + 0.062*\"heat\" + 0.051*\"superb\" + 0.049*\"h\" + 0.024*\"set\" + 0.024*\"cost\" + 0.021*\"r\" + 0.017*\"cell\" + 0.011*\"k\" + 0.010*\"fine\"'),\n",
       " (1,\n",
       "  '0.093*\"phone\" + 0.053*\"lenovo\" + 0.042*\"screen\" + 0.038*\"device\" + 0.034*\"note\" + 0.029*\"problem\" + 0.027*\"option\" + 0.025*\"service\" + 0.022*\"day\" + 0.019*\"star\"'),\n",
       " (2,\n",
       "  '0.114*\"phone\" + 0.075*\"price\" + 0.073*\"amazon\" + 0.038*\"service\" + 0.037*\"product\" + 0.033*\"delivery\" + 0.029*\"range\" + 0.026*\"time\" + 0.025*\"return\" + 0.022*\"replacement\"'),\n",
       " (3,\n",
       "  '0.112*\"issue\" + 0.112*\"phone\" + 0.093*\"money\" + 0.044*\"waste\" + 0.035*\"value\" + 0.027*\"network\" + 0.017*\"lot\" + 0.016*\"worth\" + 0.015*\"box\" + 0.015*\"month\"'),\n",
       " (4,\n",
       "  '0.256*\"problem\" + 0.116*\"heating\" + 0.050*\"performance\" + 0.023*\"network\" + 0.019*\"excellent\" + 0.018*\"smartphone\" + 0.017*\"ok\" + 0.016*\"everything\" + 0.014*\"awesome\" + 0.013*\"connection\"'),\n",
       " (5,\n",
       "  '0.257*\"battery\" + 0.056*\"camera\" + 0.049*\"backup\" + 0.042*\"phone\" + 0.039*\"day\" + 0.036*\"hour\" + 0.034*\"issue\" + 0.028*\"life\" + 0.024*\"time\" + 0.021*\"performance\"'),\n",
       " (6,\n",
       "  '0.085*\"charger\" + 0.051*\"call\" + 0.025*\"volta\" + 0.024*\"turbo\" + 0.018*\"condition\" + 0.018*\"month\" + 0.018*\"piece\" + 0.017*\"speed\" + 0.015*\"message\" + 0.014*\"notification\"'),\n",
       " (7,\n",
       "  '0.424*\"phone\" + 0.033*\"hai\" + 0.014*\"ho\" + 0.012*\"plz\" + 0.009*\"hi\" + 0.008*\"month\" + 0.008*\"color\" + 0.007*\"bhi\" + 0.007*\"hang\" + 0.006*\"charge\"'),\n",
       " (8,\n",
       "  '0.315*\"mobile\" + 0.043*\"speaker\" + 0.038*\"glass\" + 0.020*\"gorilla\" + 0.017*\"display\" + 0.014*\"class\" + 0.013*\"work\" + 0.013*\"screen\" + 0.012*\"cover\" + 0.011*\"gud\"'),\n",
       " (9,\n",
       "  '0.096*\"note\" + 0.036*\"sim\" + 0.031*\"network\" + 0.025*\"phone\" + 0.023*\"system\" + 0.021*\"call\" + 0.020*\"card\" + 0.019*\"sensor\" + 0.019*\"jio\" + 0.018*\"budget\"'),\n",
       " (10,\n",
       "  '0.222*\"product\" + 0.043*\"update\" + 0.031*\"lenovo\" + 0.031*\"software\" + 0.021*\"handset\" + 0.018*\"issue\" + 0.017*\"review\" + 0.015*\"apps\" + 0.014*\"feature\" + 0.014*\"memory\"'),\n",
       " (11,\n",
       "  '0.183*\"camera\" + 0.086*\"quality\" + 0.072*\"phone\" + 0.025*\"price\" + 0.022*\"feature\" + 0.022*\"performance\" + 0.021*\"mode\" + 0.020*\"sound\" + 0.019*\"processor\" + 0.013*\"depth\"')]"
      ]
     },
     "execution_count": 43,
     "metadata": {},
     "output_type": "execute_result"
    }
   ],
   "source": [
    "# Print the Keyword in the 12 topics\n",
    "lda_model_gensim.print_topics()"
   ]
  },
  {
   "cell_type": "markdown",
   "id": "5f83d9fe",
   "metadata": {
    "id": "5f83d9fe"
   },
   "source": [
    "## ii. What is the coherence of the model with the c_v metric?"
   ]
  },
  {
   "cell_type": "code",
   "execution_count": 44,
   "id": "d3f9bb2c",
   "metadata": {
    "id": "d3f9bb2c"
   },
   "outputs": [],
   "source": [
    "# Compute Coherence Score\n",
    "coherence_lda_gensim = CoherenceModel(model=lda_model_gensim,texts=review_clean,dictionary=id2word,coherence='c_v')"
   ]
  },
  {
   "cell_type": "code",
   "execution_count": 45,
   "id": "0e99ba06",
   "metadata": {
    "id": "0e99ba06"
   },
   "outputs": [],
   "source": [
    "coherence_lda = coherence_lda_gensim.get_coherence()"
   ]
  },
  {
   "cell_type": "code",
   "execution_count": 46,
   "id": "36d59568",
   "metadata": {
    "colab": {
     "base_uri": "https://localhost:8080/"
    },
    "id": "36d59568",
    "outputId": "8e026886-6357-4e05-cb18-5634e6229580"
   },
   "outputs": [
    {
     "name": "stdout",
     "output_type": "stream",
     "text": [
      "Coherence: 0.5265659302002864\n"
     ]
    }
   ],
   "source": [
    "print('Coherence:',coherence_lda)"
   ]
  },
  {
   "cell_type": "code",
   "execution_count": 47,
   "id": "7b2c002a",
   "metadata": {
    "colab": {
     "base_uri": "https://localhost:8080/"
    },
    "id": "7b2c002a",
    "outputId": "c64f9922-2794-4c3b-d9db-787ddd6b5d3a"
   },
   "outputs": [
    {
     "name": "stdout",
     "output_type": "stream",
     "text": [
      "Perplexity: -6.653522184369614\n"
     ]
    }
   ],
   "source": [
    "# Compute Perplexity for 12 topics\n",
    "print('Perplexity:',lda_model_gensim.log_perplexity(corpus))"
   ]
  },
  {
   "cell_type": "markdown",
   "id": "6ae13c50",
   "metadata": {
    "id": "6ae13c50"
   },
   "source": [
    "# 9. Analyze the topics through the business lens."
   ]
  },
  {
   "cell_type": "markdown",
   "id": "65dbe717",
   "metadata": {
    "id": "65dbe717"
   },
   "source": [
    "## i. Determine which of the topics can be combined."
   ]
  },
  {
   "cell_type": "code",
   "execution_count": 48,
   "id": "f0a2f1cf",
   "metadata": {
    "colab": {
     "base_uri": "https://localhost:8080/"
    },
    "id": "f0a2f1cf",
    "outputId": "77c5c964-560b-450b-8eca-6db5e2fdcdac"
   },
   "outputs": [
    {
     "name": "stdout",
     "output_type": "stream",
     "text": [
      "0 --> ['feature', 'heat', 'superb', 'h', 'set', 'cost', 'r', 'cell', 'k', 'fine']\n",
      "1 --> ['phone', 'lenovo', 'screen', 'device', 'note', 'problem', 'option', 'service', 'day', 'star']\n",
      "2 --> ['phone', 'price', 'amazon', 'service', 'product', 'delivery', 'range', 'time', 'return', 'replacement']\n",
      "3 --> ['issue', 'phone', 'money', 'waste', 'value', 'network', 'lot', 'worth', 'box', 'month']\n",
      "4 --> ['problem', 'heating', 'performance', 'network', 'excellent', 'smartphone', 'ok', 'everything', 'awesome', 'connection']\n",
      "5 --> ['battery', 'camera', 'backup', 'phone', 'day', 'hour', 'issue', 'life', 'time', 'performance']\n",
      "6 --> ['charger', 'call', 'volta', 'turbo', 'condition', 'month', 'piece', 'speed', 'message', 'notification']\n",
      "7 --> ['phone', 'hai', 'ho', 'plz', 'hi', 'month', 'color', 'bhi', 'hang', 'charge']\n",
      "8 --> ['mobile', 'speaker', 'glass', 'gorilla', 'display', 'class', 'work', 'screen', 'cover', 'gud']\n",
      "9 --> ['note', 'sim', 'network', 'phone', 'system', 'call', 'card', 'sensor', 'jio', 'budget']\n",
      "10 --> ['product', 'update', 'lenovo', 'software', 'handset', 'issue', 'review', 'apps', 'feature', 'memory']\n",
      "11 --> ['camera', 'quality', 'phone', 'price', 'feature', 'performance', 'mode', 'sound', 'processor', 'depth']\n",
      "\n"
     ]
    }
   ],
   "source": [
    "x = lda_model_gensim.show_topics(num_topics=12,formatted=False)\n",
    "topics_words = [(tp[0], [wd[0] for wd in tp[1]]) for tp in x]\n",
    "for topic,words in topics_words:\n",
    "    print(str(topic) + \" --> \" + str(words))\n",
    "print()"
   ]
  },
  {
   "cell_type": "markdown",
   "id": "773cf29f",
   "metadata": {
    "id": "773cf29f"
   },
   "source": [
    "Coherence measures the interpretability of the topics. Good value for Coherence measure c_V is 0.5.\n",
    "\n",
    "Topic 5 and 6 are vaguely about the battery life and charger.\n",
    "\n",
    "Topic 3 and 4 are vaguely about the product heating and problems.\n",
    "\n",
    "Topic 8, 9 and 11 are vaguely about the product functions.\n",
    "\n",
    "Above topics can be combined. \n",
    "\n",
    "After we combined some topics, we are left with 8 topics. Lets repeat the LDA for 8 topics and see the result."
   ]
  },
  {
   "cell_type": "markdown",
   "id": "b62f010b",
   "metadata": {
    "id": "b62f010b"
   },
   "source": [
    "# 10. Create a topic model using LDA with what you think is the optimal number of topics"
   ]
  },
  {
   "cell_type": "code",
   "execution_count": 49,
   "id": "f7dbc74a",
   "metadata": {
    "id": "f7dbc74a"
   },
   "outputs": [],
   "source": [
    "# Build LDA model with 8 topics \n",
    "lda_model_8 = gensim.models.ldamodel.LdaModel(corpus=corpus,id2word=id2word,num_topics=8,random_state=42,passes=10,\n",
    "                                             per_word_topics=True)"
   ]
  },
  {
   "cell_type": "code",
   "execution_count": 50,
   "id": "d481a553",
   "metadata": {
    "colab": {
     "base_uri": "https://localhost:8080/"
    },
    "id": "d481a553",
    "outputId": "741eb0ce-01ad-4cfb-f7f6-e904b5dbb047"
   },
   "outputs": [
    {
     "data": {
      "text/plain": [
       "[(0,\n",
       "  '0.170*\"mobile\" + 0.050*\"charger\" + 0.044*\"feature\" + 0.029*\"device\" + 0.026*\"battery\" + 0.023*\"turbo\" + 0.018*\"hour\" + 0.017*\"charging\" + 0.015*\"day\" + 0.013*\"issue\"'),\n",
       " (1,\n",
       "  '0.073*\"phone\" + 0.039*\"service\" + 0.032*\"screen\" + 0.024*\"problem\" + 0.020*\"amazon\" + 0.020*\"product\" + 0.019*\"day\" + 0.019*\"speaker\" + 0.018*\"option\" + 0.017*\"lenovo\"'),\n",
       " (2,\n",
       "  '0.163*\"product\" + 0.083*\"price\" + 0.082*\"phone\" + 0.030*\"range\" + 0.026*\"amazon\" + 0.022*\"delivery\" + 0.019*\"feature\" + 0.017*\"superb\" + 0.017*\"return\" + 0.017*\"glass\"'),\n",
       " (3,\n",
       "  '0.091*\"money\" + 0.056*\"issue\" + 0.043*\"waste\" + 0.034*\"value\" + 0.030*\"update\" + 0.027*\"h\" + 0.027*\"software\" + 0.026*\"system\" + 0.021*\"box\" + 0.017*\"work\"'),\n",
       " (4,\n",
       "  '0.178*\"problem\" + 0.052*\"heating\" + 0.034*\"hai\" + 0.019*\"network\" + 0.017*\"please\" + 0.014*\"ho\" + 0.014*\"excellent\" + 0.013*\"smartphone\" + 0.011*\"plz\" + 0.009*\"message\"'),\n",
       " (5,\n",
       "  '0.191*\"camera\" + 0.098*\"battery\" + 0.081*\"quality\" + 0.039*\"performance\" + 0.034*\"backup\" + 0.016*\"mode\" + 0.016*\"display\" + 0.014*\"sound\" + 0.012*\"everything\" + 0.011*\"depth\"'),\n",
       " (6,\n",
       "  '0.084*\"note\" + 0.050*\"phone\" + 0.037*\"lenovo\" + 0.032*\"network\" + 0.030*\"call\" + 0.023*\"sim\" + 0.019*\"feature\" + 0.013*\"card\" + 0.012*\"jio\" + 0.011*\"stock\"'),\n",
       " (7,\n",
       "  '0.291*\"phone\" + 0.075*\"battery\" + 0.035*\"issue\" + 0.030*\"time\" + 0.025*\"day\" + 0.022*\"month\" + 0.019*\"hour\" + 0.018*\"heat\" + 0.015*\"life\" + 0.015*\"use\"')]"
      ]
     },
     "execution_count": 50,
     "metadata": {},
     "output_type": "execute_result"
    }
   ],
   "source": [
    "# Print the Keyword in the 12 topics\n",
    "lda_model_8.print_topics()"
   ]
  },
  {
   "cell_type": "markdown",
   "id": "722e290c",
   "metadata": {
    "id": "722e290c"
   },
   "source": [
    "## i. What is the coherence of the model?"
   ]
  },
  {
   "cell_type": "code",
   "execution_count": 51,
   "id": "f8d148ce",
   "metadata": {
    "id": "f8d148ce"
   },
   "outputs": [],
   "source": [
    "# Compute Coherence Score for 8 topics\n",
    "coherence_lda_gensim = CoherenceModel(model=lda_model_8,texts=review_clean,dictionary=id2word,coherence='c_v')"
   ]
  },
  {
   "cell_type": "code",
   "execution_count": 52,
   "id": "70cac22b",
   "metadata": {
    "id": "70cac22b"
   },
   "outputs": [],
   "source": [
    "coherence_lda = coherence_lda_gensim.get_coherence()"
   ]
  },
  {
   "cell_type": "code",
   "execution_count": 53,
   "id": "e5c172b8",
   "metadata": {
    "colab": {
     "base_uri": "https://localhost:8080/"
    },
    "id": "e5c172b8",
    "outputId": "c39a7a2d-e253-4844-8f20-84becde38450"
   },
   "outputs": [
    {
     "name": "stdout",
     "output_type": "stream",
     "text": [
      "Coherence: 0.5724932854996856\n"
     ]
    }
   ],
   "source": [
    "print('Coherence:',coherence_lda)"
   ]
  },
  {
   "cell_type": "code",
   "execution_count": 54,
   "id": "0f482591",
   "metadata": {
    "colab": {
     "base_uri": "https://localhost:8080/"
    },
    "id": "0f482591",
    "outputId": "de071624-c475-4f6e-e1e5-b90a462daf1c"
   },
   "outputs": [
    {
     "name": "stdout",
     "output_type": "stream",
     "text": [
      "Perplexity: -6.585275005141235\n"
     ]
    }
   ],
   "source": [
    "# Compute Perplexity for 8 topics\n",
    "print('Perplexity:',lda_model_8.log_perplexity(corpus))"
   ]
  },
  {
   "cell_type": "markdown",
   "id": "e52649e9",
   "metadata": {
    "id": "e52649e9"
   },
   "source": [
    "# 11. The business should be able to interpret the topics."
   ]
  },
  {
   "cell_type": "markdown",
   "id": "c4065666",
   "metadata": {
    "id": "c4065666"
   },
   "source": [
    "## i. Name each of the identified topics."
   ]
  },
  {
   "cell_type": "code",
   "execution_count": 55,
   "id": "71d40c33",
   "metadata": {
    "colab": {
     "base_uri": "https://localhost:8080/"
    },
    "id": "71d40c33",
    "outputId": "72c3a83b-b40f-46f7-d01f-2a082332cb75"
   },
   "outputs": [
    {
     "name": "stdout",
     "output_type": "stream",
     "text": [
      "0::['mobile', 'charger', 'feature', 'device', 'battery', 'turbo', 'hour', 'charging', 'day', 'issue']\n",
      "1::['phone', 'service', 'screen', 'problem', 'amazon', 'product', 'day', 'speaker', 'option', 'lenovo']\n",
      "2::['product', 'price', 'phone', 'range', 'amazon', 'delivery', 'feature', 'superb', 'return', 'glass']\n",
      "3::['money', 'issue', 'waste', 'value', 'update', 'h', 'software', 'system', 'box', 'work']\n",
      "4::['problem', 'heating', 'hai', 'network', 'please', 'ho', 'excellent', 'smartphone', 'plz', 'message']\n",
      "5::['camera', 'battery', 'quality', 'performance', 'backup', 'mode', 'display', 'sound', 'everything', 'depth']\n",
      "6::['note', 'phone', 'lenovo', 'network', 'call', 'sim', 'feature', 'card', 'jio', 'stock']\n",
      "7::['phone', 'battery', 'issue', 'time', 'day', 'month', 'hour', 'heat', 'life', 'use']\n",
      "\n"
     ]
    }
   ],
   "source": [
    "x = lda_model_8.show_topics(formatted=False)\n",
    "topics_words = [(tp[0], [wd[0] for wd in tp[1]]) for tp in x]\n",
    "for topic,words in topics_words:\n",
    "    print(str(topic)+ \"::\"+ str(words))\n",
    "print()"
   ]
  },
  {
   "cell_type": "markdown",
   "id": "caa9424d",
   "metadata": {
    "id": "caa9424d"
   },
   "source": [
    "## ii. Create a table with the topic name and the top 10 terms in each to present to the business."
   ]
  },
  {
   "cell_type": "markdown",
   "id": "431d28b5",
   "metadata": {
    "id": "431d28b5"
   },
   "source": [
    "## Topic - Business Name\n",
    "\n",
    "Topic 0 :- Battery Related\n",
    "\n",
    "Topic 1 :- Customer Service\n",
    "\n",
    "Topic 2 :- Performace of eshopping platform\n",
    "\n",
    "Topic 3 :- Feedback of the product\n",
    "\n",
    "Topic 4 :- Features on which pricing depend\n",
    "\n",
    "Topic 5 :- Option to be considere for shopping\n",
    "\n",
    "Topic 6 :- Related to Communication or connectivity\n",
    "\n",
    "Topic 7 :- Phone Performance"
   ]
  },
  {
   "cell_type": "code",
   "execution_count": 55,
   "id": "d39f11fb",
   "metadata": {
    "id": "d39f11fb"
   },
   "outputs": [],
   "source": []
  }
 ],
 "metadata": {
  "accelerator": "GPU",
  "colab": {
   "name": "Assessment-Project_01_Topic Analysis of Review Data.ipynb",
   "provenance": []
  },
  "gpuClass": "standard",
  "kernelspec": {
   "display_name": "Python 3 (ipykernel)",
   "language": "python",
   "name": "python3"
  },
  "language_info": {
   "codemirror_mode": {
    "name": "ipython",
    "version": 3
   },
   "file_extension": ".py",
   "mimetype": "text/x-python",
   "name": "python",
   "nbconvert_exporter": "python",
   "pygments_lexer": "ipython3",
   "version": "3.9.7"
  }
 },
 "nbformat": 4,
 "nbformat_minor": 5
}
